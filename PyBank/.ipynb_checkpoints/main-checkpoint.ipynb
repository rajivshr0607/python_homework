{
 "cells": [
  {
   "cell_type": "code",
   "execution_count": 1,
   "metadata": {},
   "outputs": [
    {
     "data": {
      "text/plain": [
       "'C:\\\\Users\\\\rajee\\\\FinTech\\\\python_homework\\\\PyBank'"
      ]
     },
     "execution_count": 1,
     "metadata": {},
     "output_type": "execute_result"
    }
   ],
   "source": [
    "pwd\n"
   ]
  },
  {
   "cell_type": "code",
   "execution_count": 36,
   "metadata": {},
   "outputs": [],
   "source": [
    "import csv\n",
    "from pathlib import Path"
   ]
  },
  {
   "cell_type": "code",
   "execution_count": 37,
   "metadata": {},
   "outputs": [],
   "source": [
    "csvpath = Path(\"C:/Users/rajee/FinTech/GWU-ARL-FIN-PT-09-2020-U-C/02-Python/Homework/Instructions/PyBank/Resorces/budget_data.csv\")"
   ]
  },
  {
   "cell_type": "code",
   "execution_count": 39,
   "metadata": {},
   "outputs": [
    {
     "ename": "FileNotFoundError",
     "evalue": "[Errno 2] No such file or directory: 'C:\\\\Users\\\\rajee\\\\FinTech\\\\GWU-ARL-FIN-PT-09-2020-U-C\\\\02-Python\\\\Homework\\\\Instructions\\\\PyBank\\\\Resorces\\\\budget_data.csv'",
     "output_type": "error",
     "traceback": [
      "\u001b[1;31m---------------------------------------------------------------------------\u001b[0m",
      "\u001b[1;31mFileNotFoundError\u001b[0m                         Traceback (most recent call last)",
      "\u001b[1;32m<ipython-input-39-9f791af7243f>\u001b[0m in \u001b[0;36m<module>\u001b[1;34m\u001b[0m\n\u001b[1;32m----> 1\u001b[1;33m \u001b[1;32mwith\u001b[0m \u001b[0mopen\u001b[0m\u001b[1;33m(\u001b[0m\u001b[0mcsvpath\u001b[0m\u001b[1;33m)\u001b[0m \u001b[1;32mas\u001b[0m \u001b[0mcsvfile\u001b[0m\u001b[1;33m:\u001b[0m\u001b[1;33m\u001b[0m\u001b[1;33m\u001b[0m\u001b[0m\n\u001b[0m\u001b[0;32m      2\u001b[0m     \u001b[0mcsvreader\u001b[0m \u001b[1;33m=\u001b[0m \u001b[0mcsv\u001b[0m\u001b[1;33m.\u001b[0m\u001b[0mreader\u001b[0m\u001b[1;33m(\u001b[0m\u001b[0mcsvfile\u001b[0m\u001b[1;33m,\u001b[0m \u001b[0mdelimiter\u001b[0m\u001b[1;33m=\u001b[0m\u001b[1;34m\",\"\u001b[0m\u001b[1;33m)\u001b[0m\u001b[1;33m\u001b[0m\u001b[1;33m\u001b[0m\u001b[0m\n",
      "\u001b[1;31mFileNotFoundError\u001b[0m: [Errno 2] No such file or directory: 'C:\\\\Users\\\\rajee\\\\FinTech\\\\GWU-ARL-FIN-PT-09-2020-U-C\\\\02-Python\\\\Homework\\\\Instructions\\\\PyBank\\\\Resorces\\\\budget_data.csv'"
     ]
    }
   ],
   "source": [
    "with open(csvpath) as csvfile:\n",
    "    csvreader = csv.reader(csvfile, delimiter=\",\")"
   ]
  },
  {
   "cell_type": "code",
   "execution_count": 117,
   "metadata": {},
   "outputs": [
    {
     "name": "stdout",
     "output_type": "stream",
     "text": [
      "------Summary-----\n",
      "Total no. of months: 86\n",
      "total profit: 38382578\n",
      "average: 446309.05\n",
      "maximum Profit Date : Feb-2012\n",
      "maximumProfit Amount: 1170593\n",
      "maximum Loss Date: Sep-2013\n",
      "maximum Loss amount: -1196225\n"
     ]
    }
   ],
   "source": [
    "\n",
    "\n",
    "#Importing and opeing csv file:\n",
    "\n",
    "\n",
    "import csv\n",
    "with open(r\"C:\\\\Users\\rajee\\FinTech\\GWU-ARL-FIN-PT-09-2020-U-C\\02-Python\\Homework\\Instructions\\PyBank\\Resources\\budget_data.csv\", \"r\") as csv_file:\n",
    "    \n",
    "     # Pass in the csv file to the csv.reader() function\n",
    "    # (with ',' as the delmiter/separator) and return the csvreader object\n",
    "    \n",
    "    csv_reader = csv.reader(csv_file,delimiter=',')\n",
    "    \n",
    "    # Read the header.\n",
    "    csv_header = next(csv_reader)\n",
    "    \n",
    "    \n",
    "    #Initializing.\n",
    "    nu_mnts = 0    #Number of months.\n",
    "    total_pl = 0    #Total Profit and loss\n",
    "    maxprofit = {'profit':['',0]}\n",
    "    maxloss = {'loss':['',0]}\n",
    "    \n",
    "    #iterate\n",
    "    for line in csv_reader:\n",
    "    \n",
    "        nu_mnts = nu_mnts + 1\n",
    "        pl = int(line[1])\n",
    "        total_pl = total_pl + pl\n",
    "        \n",
    "        \n",
    "        #average.\n",
    "        average_pl = round(total_pl/ nu_mnts, 2)\n",
    "        \n",
    "        \n",
    "        if pl>0:\n",
    "               # maxprofit['profit'][1]<pl\n",
    "                maxprofit['profit'] >= [line[0],pl]\n",
    "        if maxprofit['profit'][1]<pl:\n",
    "                maxprofit['profit'] = [line[0],pl]\n",
    "        if pl<0:\n",
    "            if maxloss['loss'][1]>pl:\n",
    "                maxloss['loss'] = [line[0],pl]\n",
    "        \n",
    "        \n",
    "    print('------Summary-----')\n",
    "    print(f\"Total no. of months: {nu_mnts}\")\n",
    "    print(f\"total profit: {total_pl}\") \n",
    "    print(f\"average: {average_pl}\")\n",
    "    print(f\"maximum Profit Date : {maxprofit['profit'][0]}\")\n",
    "    print(f\"maximumProfit Amount: {maxprofit['profit'][1]}\")\n",
    "    print(f\"maximum Loss Date: {maxloss['loss'][0]}\")\n",
    "    print(f\"maximum Loss amount: {maxloss['loss'][1]}\")\n"
   ]
  },
  {
   "cell_type": "code",
   "execution_count": null,
   "metadata": {},
   "outputs": [],
   "source": []
  }
 ],
 "metadata": {
  "kernelspec": {
   "display_name": "Python 3",
   "language": "python",
   "name": "python3"
  },
  "language_info": {
   "codemirror_mode": {
    "name": "ipython",
    "version": 3
   },
   "file_extension": ".py",
   "mimetype": "text/x-python",
   "name": "python",
   "nbconvert_exporter": "python",
   "pygments_lexer": "ipython3",
   "version": "3.8.3"
  }
 },
 "nbformat": 4,
 "nbformat_minor": 4
}
